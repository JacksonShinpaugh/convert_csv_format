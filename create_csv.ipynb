{
 "cells": [
  {
   "cell_type": "code",
   "execution_count": 1,
   "metadata": {},
   "outputs": [],
   "source": [
    "import os\n",
    "import json\n",
    "import pandas as pd\n",
    "import datetime\n",
    "from google.cloud import storage"
   ]
  },
  {
   "cell_type": "code",
   "execution_count": 2,
   "metadata": {},
   "outputs": [],
   "source": [
    "# connect to gcloud bucket\n",
    "os.environ['GOOGLE_APPLICATION_CREDENTIALS'] = 'survai-data-connect.json'\n",
    "storage_client = storage.Client()\n",
    "bucket_name = 'survai-dataset'\n",
    "bucket = storage_client.bucket(bucket_name)"
   ]
  },
  {
   "cell_type": "code",
   "execution_count": 12,
   "metadata": {},
   "outputs": [],
   "source": [
    "# access temp_videodata_storage folder\n",
    "blobs = storage_client.list_blobs(bucket_name, prefix=\"datasets/test_datasets/sparverius_pf/results_08052022/temp_videodata_storage/\")\n",
    "data = []\n",
    "\n",
    "for blob in blobs:\n",
    "\n",
    "    file = blob.name.split(\"/\")[5]\n",
    "    i = file.count(\"_\")\n",
    "\n",
    "    if i > 1:\n",
    "        file_name = \"_\".join(file.split(\"_\", i)[:i]) \n",
    "    else:\n",
    "        file_name = file.split(\"_\")[0]\n",
    "\n",
    "    if \"od.json\" in file:\n",
    "        od = json.loads(blob.download_as_string())\n",
    "    \n",
    "        # change seconds to datetime\n",
    "        for k,v in list(od.items()):\n",
    "            newkey = str(datetime.timedelta(seconds=int(k)))\n",
    "            od[newkey] = od.pop(k)\n",
    "        \n",
    "        data.append({\n",
    "            \"file_name\": f\"{file_name}.mp4\",\n",
    "            \"detections_per_second\": od\n",
    "        })\n",
    "\n",
    "    if \"stats.json\" in file:\n",
    "        stats = json.loads(blob.download_as_string())\n",
    "        \n",
    "        for k,v in stats.items():\n",
    "            data.append({\n",
    "            \"file_name\": f\"{file_name}.mp4\",\n",
    "            k: v\n",
    "        })"
   ]
  },
  {
   "cell_type": "code",
   "execution_count": 13,
   "metadata": {},
   "outputs": [],
   "source": [
    "df = pd.DataFrame(data)\n",
    "df = df.drop(['person_on_ground', 'spray', 'violent_actions', 'crowd', \n",
    "                'striking', 'running', 'throwing', 'brawling', 'arresting'], axis=1)\n",
    "aggregate_functions = {'detections_per_second': 'first', 'Non Uniformed': 'sum', \n",
    "                        'Uniformed': 'sum', 'Riot Shield': 'sum', 'Gun': 'sum', 'Pepper Spray': 'sum',\n",
    "                        'Baton': 'sum', 'Chemical Smoke': 'sum'}\n",
    "\n",
    "df_new = df.groupby('file_name', as_index=False).aggregate(aggregate_functions).reindex(columns=df.columns)"
   ]
  },
  {
   "cell_type": "code",
   "execution_count": 14,
   "metadata": {},
   "outputs": [],
   "source": [
    "#df_new.to_json('pf_detections.json', orient='index')\n",
    "df_new.to_csv('pf_detections2.csv')"
   ]
  }
 ],
 "metadata": {
  "interpreter": {
   "hash": "7f0d9b29d3abf450bf16b2b0a1c26e44348ebdbb4c4f2d61ade5ad73213c2959"
  },
  "kernelspec": {
   "display_name": "Python 3.9.7 ('dsbasic')",
   "language": "python",
   "name": "python3"
  },
  "language_info": {
   "codemirror_mode": {
    "name": "ipython",
    "version": 3
   },
   "file_extension": ".py",
   "mimetype": "text/x-python",
   "name": "python",
   "nbconvert_exporter": "python",
   "pygments_lexer": "ipython3",
   "version": "3.9.7"
  },
  "orig_nbformat": 4
 },
 "nbformat": 4,
 "nbformat_minor": 2
}
